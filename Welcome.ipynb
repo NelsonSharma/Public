{
  "nbformat": 4,
  "nbformat_minor": 0,
  "metadata": {
    "colab": {
      "name": "Welcome.ipynb",
      "provenance": [],
      "collapsed_sections": [],
      "toc_visible": true,
      "authorship_tag": "ABX9TyMVUdvgt5CRXpia9bT0C8R3"
    },
    "kernelspec": {
      "name": "python3",
      "display_name": "Python 3"
    },
    "language_info": {
      "name": "python"
    }
  },
  "cells": [
    {
      "cell_type": "markdown",
      "metadata": {
        "id": "RAgxLUj7wCCM"
      },
      "source": [
        "# Welcome!"
      ]
    },
    {
      "cell_type": "markdown",
      "metadata": {
        "id": "ChB9OYZ6zF4F"
      },
      "source": [
        "## User Info"
      ]
    },
    {
      "cell_type": "code",
      "metadata": {
        "colab": {
          "base_uri": "https://localhost:8080/"
        },
        "id": "lqRguPPqvX7H",
        "outputId": "fe560a0a-831d-4b40-8ed6-c05d9099c7c7"
      },
      "source": [
        "user_info={\n",
        "            'name':\"Nelson Sharma\",\n",
        "            'email':\"mail.nelsonsharma@gmail.com\",\n",
        "            'linkin':\"https://www.linkedin.com/in/nelson-sharma-3b716388/\",\n",
        "            'github':\"https://github.com/NelsonSharma\",\n",
        "            'kaggle':\"https://www.kaggle.com/nelsonsharma\",\n",
        "        }\n",
        "\n",
        "print('User Info\\n')\n",
        "for key in user_info.keys():\n",
        "    print(key,'\\t',user_info[key])"
      ],
      "execution_count": 1,
      "outputs": [
        {
          "output_type": "stream",
          "text": [
            "User Info\n",
            "\n",
            "name \t Nelson Sharma\n",
            "email \t mail.nelsonsharma@gmail.com\n",
            "linkin \t https://www.linkedin.com/in/nelson-sharma-3b716388/\n",
            "github \t https://github.com/NelsonSharma\n",
            "kaggle \t https://www.kaggle.com/nelsonsharma\n"
          ],
          "name": "stdout"
        }
      ]
    },
    {
      "cell_type": "markdown",
      "metadata": {
        "id": "Dcm2KPDhzH8U"
      },
      "source": [
        "## Shared Links"
      ]
    },
    {
      "cell_type": "code",
      "metadata": {
        "colab": {
          "base_uri": "https://localhost:8080/"
        },
        "id": "Sy_bw-dEzU2P",
        "outputId": "d070e5dd-4c48-485f-fd80-f1dd9e978c85"
      },
      "source": [
        "shared_links = {\n",
        "            'gdrive_share':'https://drive.google.com/drive/folders/1asgiYKn0P86TKCAr-BozZlNAliP1IlA8?usp=sharing',\n",
        "            'onedrive_share':'https://1drv.ms/u/s!Ajq_N1Mt7YELgmUi8pDfVahoEm51?e=AIZIcn',\n",
        "            'kaggle_code':'https://www.kaggle.com/nelsonsharma/code',\n",
        "            'kaggle_data':'https://www.kaggle.com/nelsonsharma/datasets',\n",
        "            }\n",
        "\n",
        "print('Shared Links\\n')\n",
        "for key in shared_links.keys():\n",
        "    print(key,'\\t',shared_links[key])"
      ],
      "execution_count": 2,
      "outputs": [
        {
          "output_type": "stream",
          "text": [
            "Shared Links\n",
            "\n",
            "gdrive_share \t https://drive.google.com/drive/folders/1asgiYKn0P86TKCAr-BozZlNAliP1IlA8?usp=sharing\n",
            "onedrive_share \t https://1drv.ms/u/s!Ajq_N1Mt7YELgmUi8pDfVahoEm51?e=AIZIcn\n",
            "kaggle_code \t https://www.kaggle.com/nelsonsharma/code\n",
            "kaggle_data \t https://www.kaggle.com/nelsonsharma/datasets\n"
          ],
          "name": "stdout"
        }
      ]
    },
    {
      "cell_type": "code",
      "metadata": {
        "id": "E5Bsvhgmzf5w"
      },
      "source": [
        ""
      ],
      "execution_count": 2,
      "outputs": []
    }
  ]
}